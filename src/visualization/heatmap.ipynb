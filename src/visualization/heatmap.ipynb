{
 "cells": [
  {
   "cell_type": "code",
   "execution_count": 5,
   "metadata": {},
   "outputs": [],
   "source": [
    "import os\n",
    "import gmaps\n",
    "import gmaps.datasets\n",
    "import xml.etree.ElementTree as ET\n",
    "import csv\n",
    "import pandas as pd"
   ]
  },
  {
   "cell_type": "markdown",
   "metadata": {},
   "source": [
    "Get API key"
   ]
  },
  {
   "cell_type": "code",
   "execution_count": 2,
   "metadata": {},
   "outputs": [],
   "source": [
    "gmaps.configure(api_key=os.environ[\"GOOGLE_API_KEY\"])"
   ]
  },
  {
   "cell_type": "code",
   "execution_count": 3,
   "metadata": {},
   "outputs": [
    {
     "data": {
      "text/html": [
       "<div>\n",
       "<style scoped>\n",
       "    .dataframe tbody tr th:only-of-type {\n",
       "        vertical-align: middle;\n",
       "    }\n",
       "\n",
       "    .dataframe tbody tr th {\n",
       "        vertical-align: top;\n",
       "    }\n",
       "\n",
       "    .dataframe thead th {\n",
       "        text-align: right;\n",
       "    }\n",
       "</style>\n",
       "<table border=\"1\" class=\"dataframe\">\n",
       "  <thead>\n",
       "    <tr style=\"text-align: right;\">\n",
       "      <th></th>\n",
       "      <th>latitude</th>\n",
       "      <th>longitude</th>\n",
       "      <th>magnitude</th>\n",
       "    </tr>\n",
       "  </thead>\n",
       "  <tbody>\n",
       "    <tr>\n",
       "      <th>0</th>\n",
       "      <td>65.193300</td>\n",
       "      <td>-149.072500</td>\n",
       "      <td>1.70</td>\n",
       "    </tr>\n",
       "    <tr>\n",
       "      <th>1</th>\n",
       "      <td>38.791832</td>\n",
       "      <td>-122.780830</td>\n",
       "      <td>2.10</td>\n",
       "    </tr>\n",
       "    <tr>\n",
       "      <th>2</th>\n",
       "      <td>38.818001</td>\n",
       "      <td>-122.792168</td>\n",
       "      <td>0.48</td>\n",
       "    </tr>\n",
       "    <tr>\n",
       "      <th>3</th>\n",
       "      <td>33.601667</td>\n",
       "      <td>-116.727667</td>\n",
       "      <td>0.78</td>\n",
       "    </tr>\n",
       "    <tr>\n",
       "      <th>4</th>\n",
       "      <td>37.378334</td>\n",
       "      <td>-118.520836</td>\n",
       "      <td>3.64</td>\n",
       "    </tr>\n",
       "  </tbody>\n",
       "</table>\n",
       "</div>"
      ],
      "text/plain": [
       "    latitude   longitude  magnitude\n",
       "0  65.193300 -149.072500       1.70\n",
       "1  38.791832 -122.780830       2.10\n",
       "2  38.818001 -122.792168       0.48\n",
       "3  33.601667 -116.727667       0.78\n",
       "4  37.378334 -118.520836       3.64"
      ]
     },
     "execution_count": 3,
     "metadata": {},
     "output_type": "execute_result"
    }
   ],
   "source": [
    "earthquake_df = gmaps.datasets.load_dataset_as_df('earthquakes')\n",
    "earthquake_df.head()"
   ]
  },
  {
   "cell_type": "code",
   "execution_count": 19,
   "metadata": {},
   "outputs": [],
   "source": [
    "filepath = '~/strides/data/fit2csv/'\n",
    "file = '921B4648'\n",
    "filetype = '.csv'\n",
    "df = pd.read_csv(filepath+file+'_prepared'+filetype)"
   ]
  },
  {
   "cell_type": "code",
   "execution_count": 20,
   "metadata": {},
   "outputs": [
    {
     "data": {
      "text/html": [
       "<div>\n",
       "<style scoped>\n",
       "    .dataframe tbody tr th:only-of-type {\n",
       "        vertical-align: middle;\n",
       "    }\n",
       "\n",
       "    .dataframe tbody tr th {\n",
       "        vertical-align: top;\n",
       "    }\n",
       "\n",
       "    .dataframe thead th {\n",
       "        text-align: right;\n",
       "    }\n",
       "</style>\n",
       "<table border=\"1\" class=\"dataframe\">\n",
       "  <thead>\n",
       "    <tr style=\"text-align: right;\">\n",
       "      <th></th>\n",
       "      <th>Unnamed: 0</th>\n",
       "      <th>Field 1</th>\n",
       "      <th>Value 1</th>\n",
       "      <th>Units 1</th>\n",
       "      <th>Field 2</th>\n",
       "      <th>Value 2</th>\n",
       "      <th>Units 2</th>\n",
       "      <th>Field 3</th>\n",
       "      <th>Value 3</th>\n",
       "      <th>Units 3</th>\n",
       "      <th>...</th>\n",
       "      <th>Units 6</th>\n",
       "      <th>Field 7</th>\n",
       "      <th>Value 7</th>\n",
       "      <th>Units 7</th>\n",
       "      <th>Field 8</th>\n",
       "      <th>Value 8</th>\n",
       "      <th>Units 8</th>\n",
       "      <th>Field 9</th>\n",
       "      <th>Value 9</th>\n",
       "      <th>Units 9</th>\n",
       "    </tr>\n",
       "  </thead>\n",
       "  <tbody>\n",
       "    <tr>\n",
       "      <th>0</th>\n",
       "      <td>19</td>\n",
       "      <td>timestamp</td>\n",
       "      <td>2019-02-01 10:46:48</td>\n",
       "      <td>UTC</td>\n",
       "      <td>position_lat</td>\n",
       "      <td>48.139598</td>\n",
       "      <td>degrees</td>\n",
       "      <td>position_long</td>\n",
       "      <td>11.589160</td>\n",
       "      <td>degrees</td>\n",
       "      <td>...</td>\n",
       "      <td>NaN</td>\n",
       "      <td>heart_rate</td>\n",
       "      <td>90.0</td>\n",
       "      <td>bpm</td>\n",
       "      <td>cadence</td>\n",
       "      <td>79.0</td>\n",
       "      <td>rpm</td>\n",
       "      <td>enhanced_speed</td>\n",
       "      <td>2.682</td>\n",
       "      <td>m/s</td>\n",
       "    </tr>\n",
       "    <tr>\n",
       "      <th>1</th>\n",
       "      <td>20</td>\n",
       "      <td>timestamp</td>\n",
       "      <td>2019-02-01 10:46:49</td>\n",
       "      <td>UTC</td>\n",
       "      <td>position_lat</td>\n",
       "      <td>48.139640</td>\n",
       "      <td>degrees</td>\n",
       "      <td>position_long</td>\n",
       "      <td>11.589109</td>\n",
       "      <td>degrees</td>\n",
       "      <td>...</td>\n",
       "      <td>NaN</td>\n",
       "      <td>heart_rate</td>\n",
       "      <td>92.0</td>\n",
       "      <td>bpm</td>\n",
       "      <td>cadence</td>\n",
       "      <td>79.0</td>\n",
       "      <td>rpm</td>\n",
       "      <td>enhanced_speed</td>\n",
       "      <td>3.348</td>\n",
       "      <td>m/s</td>\n",
       "    </tr>\n",
       "    <tr>\n",
       "      <th>2</th>\n",
       "      <td>23</td>\n",
       "      <td>timestamp</td>\n",
       "      <td>2019-02-01 10:46:50</td>\n",
       "      <td>UTC</td>\n",
       "      <td>position_lat</td>\n",
       "      <td>48.139677</td>\n",
       "      <td>degrees</td>\n",
       "      <td>position_long</td>\n",
       "      <td>11.589135</td>\n",
       "      <td>degrees</td>\n",
       "      <td>...</td>\n",
       "      <td>NaN</td>\n",
       "      <td>heart_rate</td>\n",
       "      <td>95.0</td>\n",
       "      <td>bpm</td>\n",
       "      <td>cadence</td>\n",
       "      <td>0.0</td>\n",
       "      <td>rpm</td>\n",
       "      <td>enhanced_speed</td>\n",
       "      <td>3.583</td>\n",
       "      <td>m/s</td>\n",
       "    </tr>\n",
       "    <tr>\n",
       "      <th>3</th>\n",
       "      <td>24</td>\n",
       "      <td>timestamp</td>\n",
       "      <td>2019-02-01 10:46:51</td>\n",
       "      <td>UTC</td>\n",
       "      <td>position_lat</td>\n",
       "      <td>48.139669</td>\n",
       "      <td>degrees</td>\n",
       "      <td>position_long</td>\n",
       "      <td>11.589165</td>\n",
       "      <td>degrees</td>\n",
       "      <td>...</td>\n",
       "      <td>NaN</td>\n",
       "      <td>heart_rate</td>\n",
       "      <td>97.0</td>\n",
       "      <td>bpm</td>\n",
       "      <td>cadence</td>\n",
       "      <td>0.0</td>\n",
       "      <td>rpm</td>\n",
       "      <td>enhanced_speed</td>\n",
       "      <td>3.337</td>\n",
       "      <td>m/s</td>\n",
       "    </tr>\n",
       "    <tr>\n",
       "      <th>4</th>\n",
       "      <td>25</td>\n",
       "      <td>timestamp</td>\n",
       "      <td>2019-02-01 10:46:52</td>\n",
       "      <td>UTC</td>\n",
       "      <td>position_lat</td>\n",
       "      <td>48.139700</td>\n",
       "      <td>degrees</td>\n",
       "      <td>position_long</td>\n",
       "      <td>11.589201</td>\n",
       "      <td>degrees</td>\n",
       "      <td>...</td>\n",
       "      <td>NaN</td>\n",
       "      <td>heart_rate</td>\n",
       "      <td>100.0</td>\n",
       "      <td>bpm</td>\n",
       "      <td>cadence</td>\n",
       "      <td>0.0</td>\n",
       "      <td>rpm</td>\n",
       "      <td>enhanced_speed</td>\n",
       "      <td>3.542</td>\n",
       "      <td>m/s</td>\n",
       "    </tr>\n",
       "  </tbody>\n",
       "</table>\n",
       "<p>5 rows × 28 columns</p>\n",
       "</div>"
      ],
      "text/plain": [
       "   Unnamed: 0    Field 1              Value 1 Units 1       Field 2  \\\n",
       "0          19  timestamp  2019-02-01 10:46:48     UTC  position_lat   \n",
       "1          20  timestamp  2019-02-01 10:46:49     UTC  position_lat   \n",
       "2          23  timestamp  2019-02-01 10:46:50     UTC  position_lat   \n",
       "3          24  timestamp  2019-02-01 10:46:51     UTC  position_lat   \n",
       "4          25  timestamp  2019-02-01 10:46:52     UTC  position_lat   \n",
       "\n",
       "     Value 2  Units 2        Field 3    Value 3  Units 3  ... Units 6  \\\n",
       "0  48.139598  degrees  position_long  11.589160  degrees  ...     NaN   \n",
       "1  48.139640  degrees  position_long  11.589109  degrees  ...     NaN   \n",
       "2  48.139677  degrees  position_long  11.589135  degrees  ...     NaN   \n",
       "3  48.139669  degrees  position_long  11.589165  degrees  ...     NaN   \n",
       "4  48.139700  degrees  position_long  11.589201  degrees  ...     NaN   \n",
       "\n",
       "      Field 7 Value 7 Units 7  Field 8 Value 8 Units 8         Field 9  \\\n",
       "0  heart_rate    90.0     bpm  cadence    79.0     rpm  enhanced_speed   \n",
       "1  heart_rate    92.0     bpm  cadence    79.0     rpm  enhanced_speed   \n",
       "2  heart_rate    95.0     bpm  cadence     0.0     rpm  enhanced_speed   \n",
       "3  heart_rate    97.0     bpm  cadence     0.0     rpm  enhanced_speed   \n",
       "4  heart_rate   100.0     bpm  cadence     0.0     rpm  enhanced_speed   \n",
       "\n",
       "   Value 9 Units 9  \n",
       "0    2.682     m/s  \n",
       "1    3.348     m/s  \n",
       "2    3.583     m/s  \n",
       "3    3.337     m/s  \n",
       "4    3.542     m/s  \n",
       "\n",
       "[5 rows x 28 columns]"
      ]
     },
     "execution_count": 20,
     "metadata": {},
     "output_type": "execute_result"
    }
   ],
   "source": [
    "df.head()"
   ]
  },
  {
   "cell_type": "code",
   "execution_count": 21,
   "metadata": {},
   "outputs": [
    {
     "data": {
      "application/vnd.jupyter.widget-view+json": {
       "model_id": "cb4190d252ad440bb242a0547f54c479",
       "version_major": 2,
       "version_minor": 0
      },
      "text/plain": [
       "Figure(layout=FigureLayout(height='420px'))"
      ]
     },
     "metadata": {},
     "output_type": "display_data"
    }
   ],
   "source": [
    "locations = df[['Value 2', 'Value 3']]\n",
    "#locations = df[['latitude', 'longitude']]\n",
    "#weights = earthquake_df['magnitude']\n",
    "fig = gmaps.figure()\n",
    "fig.add_layer(gmaps.heatmap_layer(locations))#, weights=weights))\n",
    "fig"
   ]
  },
  {
   "cell_type": "code",
   "execution_count": 8,
   "metadata": {},
   "outputs": [
    {
     "data": {
      "application/vnd.jupyter.widget-view+json": {
       "model_id": "2cf639e56750458f98876719c2566c2c",
       "version_major": 2,
       "version_minor": 0
      },
      "text/plain": [
       "Figure(layout=FigureLayout(height='420px'))"
      ]
     },
     "metadata": {},
     "output_type": "display_data"
    }
   ],
   "source": [
    "# generate some (latitude, longitude) pairs\n",
    "locations = [(51.5, 0.1), (51.7, 0.2), (51.4, -0.2), (51.49, 0.1)]\n",
    "fig = gmaps.figure()\n",
    "heatmap_layer = gmaps.heatmap_layer(locations)\n",
    "fig.add_layer(heatmap_layer)\n",
    "fig"
   ]
  },
  {
   "cell_type": "code",
   "execution_count": null,
   "metadata": {},
   "outputs": [],
   "source": []
  }
 ],
 "metadata": {
  "kernelspec": {
   "display_name": "Python 3",
   "language": "python",
   "name": "python3"
  },
  "language_info": {
   "codemirror_mode": {
    "name": "ipython",
    "version": 3
   },
   "file_extension": ".py",
   "mimetype": "text/x-python",
   "name": "python",
   "nbconvert_exporter": "python",
   "pygments_lexer": "ipython3",
   "version": "3.5.2"
  }
 },
 "nbformat": 4,
 "nbformat_minor": 2
}

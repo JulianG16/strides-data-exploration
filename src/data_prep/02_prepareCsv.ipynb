{
 "cells": [
  {
   "cell_type": "markdown",
   "metadata": {},
   "source": [
    "Imports"
   ]
  },
  {
   "cell_type": "code",
   "execution_count": 1,
   "metadata": {},
   "outputs": [],
   "source": [
    "import csv\n",
    "import pandas as pd\n",
    "from datetime import datetime\n",
    "from datetime import timedelta\n",
    "import os\n",
    "#from subprocess import call\n",
    "import subprocess"
   ]
  },
  {
   "cell_type": "markdown",
   "metadata": {},
   "source": [
    "Functions"
   ]
  },
  {
   "cell_type": "code",
   "execution_count": 2,
   "metadata": {},
   "outputs": [],
   "source": [
    "#convert .FIT to .csv with the help of FIT_sdk\n",
    "def convertFITToCsv(file):\n",
    "    source_file = \"/home/julio/strides/data/fit_raw/\"+file+\".FIT\"\n",
    "    target_file = \"/home/julio/strides/data/fit2csv/\"+file+\".csv\"\n",
    "    #call([\"java\", \"-jar\", \"/home/julio/strides/fit_sdk/java/FitCSVTool.jar\", \"-b\", source_file, target_file])\n",
    "    subprocess.run([\"java\", \"-jar\", \"/home/julio/strides/fit_sdk/java/FitCSVTool.jar\", \"-b\", source_file, target_file], stdout=subprocess.PIPE)"
   ]
  },
  {
   "cell_type": "code",
   "execution_count": 3,
   "metadata": {},
   "outputs": [],
   "source": [
    "def secondsToUTC (dataset):\n",
    "    #1989-12-31 00:00:00\n",
    "    zero = datetime(1989,12,31,0,0,0)\n",
    "    #print (datetime.strftime(zero,\"%b %d %Y %H:%M:%S\"))\n",
    "    new_dataset = []\n",
    "    for d in dataset:\n",
    "        n = str(zero + timedelta(seconds=d))\n",
    "        new_dataset.append(n)\n",
    "    return new_dataset"
   ]
  },
  {
   "cell_type": "code",
   "execution_count": 4,
   "metadata": {},
   "outputs": [],
   "source": [
    "def prepareCSV (filepath, file, filetype):\n",
    "    print(file)\n",
    "    #Read csv\n",
    "    df = pd.read_csv(filepath+file+filetype)\n",
    "    \n",
    "    #filter for local number == 7 and type == Date\n",
    "    df_filtered = df.loc[df['Local Number'] == 7]\n",
    "    df_filtered = df_filtered.loc[df_filtered['Type'] == 'Data']\n",
    "    \n",
    "    #convert position and time\n",
    "    df_filtered['Value 2'] = df_filtered['Value 2']* 180/(2**31)\n",
    "    df_filtered['Units 2'] = \"degrees\"\n",
    "\n",
    "    df_filtered['Value 3'] = df_filtered['Value 3']* 180/(2**31)\n",
    "    df_filtered['Units 3'] = \"degrees\"\n",
    "\n",
    "    df_filtered['Value 1'] = secondsToUTC(df_filtered['Value 1'])\n",
    "    df_filtered['Units 1'] = \"UTC\"\n",
    "    \n",
    "    # drop unnecessary data\n",
    "    toBeDropped = []\n",
    "    counter = 10\n",
    "    field_str = 'Field '\n",
    "    value_str = 'Value '\n",
    "    units_str = 'Units '\n",
    "\n",
    "    upperBound = (len(df.columns) - 31)/3 + 10\n",
    "    while counter < upperBound:\n",
    "        toBeDropped.append(field_str+str(counter))\n",
    "        toBeDropped.append(value_str+str(counter))\n",
    "        toBeDropped.append(units_str+str(counter))\n",
    "        counter = counter + 1\n",
    "\n",
    "    toBeDropped.append(\"Type\")\n",
    "    toBeDropped.append(\"Local Number\")\n",
    "    toBeDropped.append(\"Message\")\n",
    "    toBeDropped.append(\"Unnamed: \"+str(len(df.columns)-1))\n",
    "    \n",
    "    df_filtered = df_filtered.drop(columns=toBeDropped)\n",
    "    \n",
    "    # write csv\n",
    "    df_filtered.to_csv(filepath+file+'_prepared'+filetype)"
   ]
  },
  {
   "cell_type": "code",
   "execution_count": 5,
   "metadata": {},
   "outputs": [],
   "source": [
    "#Get file names in directory\n",
    "def getFiles(filepath, filetype):\n",
    "    files = []  \n",
    "    for file in os.listdir(filepath):\n",
    "        if file.endswith(filetype) and not file.endswith(\"prepared\"+filetype):\n",
    "            files.append(file.split('.')[0])\n",
    "    return files"
   ]
  },
  {
   "cell_type": "markdown",
   "metadata": {},
   "source": [
    "Convert FIT to csv"
   ]
  },
  {
   "cell_type": "code",
   "execution_count": 6,
   "metadata": {},
   "outputs": [],
   "source": [
    "files = getFiles(filepath='/home/julio/strides/data/fit_raw/', filetype='.FIT')\n",
    "#print (files)\n",
    "for file in files:\n",
    "    convertFITToCsv(file)"
   ]
  },
  {
   "cell_type": "markdown",
   "metadata": {},
   "source": [
    "Prepare csv files"
   ]
  },
  {
   "cell_type": "code",
   "execution_count": 7,
   "metadata": {},
   "outputs": [
    {
     "name": "stdout",
     "output_type": "stream",
     "text": [
      "913F2746\n",
      "91DD1310\n",
      "91QA1309\n",
      "91H73828\n",
      "91HK2904\n",
      "91QA1841\n",
      "91SI5602\n",
      "916A2805\n",
      "911E0950\n",
      "911D3633\n",
      "91KE0003\n",
      "91VI5920\n",
      "91BE1243\n",
      "91LI0343\n",
      "914H2817\n",
      "921B4648\n",
      "91RB2029\n"
     ]
    },
    {
     "name": "stderr",
     "output_type": "stream",
     "text": [
      "/usr/local/lib/python3.5/dist-packages/IPython/core/interactiveshell.py:3185: DtypeWarning: Columns (35,62,65,69,71) have mixed types. Specify dtype option on import or set low_memory=False.\n",
      "  if (yield from self.run_code(code, result)):\n"
     ]
    },
    {
     "name": "stdout",
     "output_type": "stream",
     "text": [
      "91NJ1712\n",
      "8CUG1206\n",
      "91CG2815\n",
      "91KB2254\n",
      "91U70725\n",
      "91VI2925\n",
      "91AH1749\n",
      "915F0120\n",
      "911B3000\n",
      "919H2158\n",
      "91BC4602\n",
      "911C4903\n",
      "91NK5221\n",
      "91JE0641\n",
      "91FJ5751\n"
     ]
    }
   ],
   "source": [
    "files = getFiles(filepath='/home/julio/strides/data/fit2csv/', filetype='.csv')\n",
    "#print (files)\n",
    "for file in files:\n",
    "    prepareCSV (filepath='/home/julio/strides/data/fit2csv/', file=file, filetype='.csv')"
   ]
  },
  {
   "cell_type": "code",
   "execution_count": null,
   "metadata": {},
   "outputs": [],
   "source": []
  },
  {
   "cell_type": "code",
   "execution_count": null,
   "metadata": {},
   "outputs": [],
   "source": []
  }
 ],
 "metadata": {
  "kernelspec": {
   "display_name": "Python 3",
   "language": "python",
   "name": "python3"
  },
  "language_info": {
   "codemirror_mode": {
    "name": "ipython",
    "version": 3
   },
   "file_extension": ".py",
   "mimetype": "text/x-python",
   "name": "python",
   "nbconvert_exporter": "python",
   "pygments_lexer": "ipython3",
   "version": "3.5.2"
  }
 },
 "nbformat": 4,
 "nbformat_minor": 2
}

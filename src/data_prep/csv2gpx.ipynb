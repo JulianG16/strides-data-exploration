{
 "cells": [
  {
   "cell_type": "markdown",
   "metadata": {},
   "source": [
    "Imports"
   ]
  },
  {
   "cell_type": "code",
   "execution_count": 28,
   "metadata": {},
   "outputs": [],
   "source": [
    "import csv\n",
    "import pandas as pd\n",
    "from datetime import datetime\n",
    "from datetime import timedelta"
   ]
  },
  {
   "cell_type": "markdown",
   "metadata": {},
   "source": [
    "Get file names"
   ]
  },
  {
   "cell_type": "code",
   "execution_count": null,
   "metadata": {},
   "outputs": [],
   "source": []
  },
  {
   "cell_type": "markdown",
   "metadata": {},
   "source": [
    "Read csv"
   ]
  },
  {
   "cell_type": "code",
   "execution_count": 29,
   "metadata": {},
   "outputs": [],
   "source": [
    "df = pd.read_csv('~/strides/data/fit2csv/921B4648.csv')\n",
    "#df"
   ]
  },
  {
   "cell_type": "markdown",
   "metadata": {},
   "source": [
    "filter for local number == 7 and type == Date"
   ]
  },
  {
   "cell_type": "code",
   "execution_count": 30,
   "metadata": {},
   "outputs": [],
   "source": [
    "df_filtered = df.loc[df['Local Number'] == 7]\n",
    "df_filtered = df_filtered.loc[df_filtered['Type'] == 'Data']"
   ]
  },
  {
   "cell_type": "markdown",
   "metadata": {},
   "source": [
    " convert position and time"
   ]
  },
  {
   "cell_type": "code",
   "execution_count": 31,
   "metadata": {},
   "outputs": [],
   "source": [
    "def secondsToUTC (dataset):\n",
    "    #1989-12-31 00:00:00\n",
    "    zero = datetime(1989,12,31,0,0,0)\n",
    "    #print (datetime.strftime(zero,\"%b %d %Y %H:%M:%S\"))\n",
    "    new_dataset = []\n",
    "    for d in dataset:\n",
    "        n = str(zero + timedelta(seconds=d))\n",
    "        new_dataset.append(n)\n",
    "    return new_dataset"
   ]
  },
  {
   "cell_type": "code",
   "execution_count": 32,
   "metadata": {},
   "outputs": [],
   "source": [
    "df_filtered['Value 2'] = df_filtered['Value 2']* 180/(2^31)\n",
    "df_filtered['Units 2'] = \"degrees\"\n",
    "\n",
    "df_filtered['Value 3'] = df_filtered['Value 3']* 180/(2^31)\n",
    "df_filtered['Units 3'] = \"degrees\"\n",
    "\n",
    "df_filtered['Value 1'] = secondsToUTC(df_filtered['Value 1'])\n",
    "df_filtered['Units 1'] = \"UTC\""
   ]
  },
  {
   "cell_type": "code",
   "execution_count": 33,
   "metadata": {},
   "outputs": [],
   "source": [
    "toBeDropped = []\n",
    "counter = 10\n",
    "field_str = 'Field '\n",
    "value_str = 'Value '\n",
    "units_str = 'Units '\n",
    "\n",
    "while counter < 24:\n",
    "    toBeDropped.append(field_str+str(counter))\n",
    "    toBeDropped.append(value_str+str(counter))\n",
    "    toBeDropped.append(units_str+str(counter))\n",
    "    counter = counter + 1\n",
    "\n",
    "toBeDropped.append(\"Type\")\n",
    "toBeDropped.append(\"Local Number\")\n",
    "toBeDropped.append(\"Message\")\n",
    "toBeDropped.append(\"Unnamed: 72\")"
   ]
  },
  {
   "cell_type": "code",
   "execution_count": 34,
   "metadata": {},
   "outputs": [
    {
     "data": {
      "text/html": [
       "<div>\n",
       "<style scoped>\n",
       "    .dataframe tbody tr th:only-of-type {\n",
       "        vertical-align: middle;\n",
       "    }\n",
       "\n",
       "    .dataframe tbody tr th {\n",
       "        vertical-align: top;\n",
       "    }\n",
       "\n",
       "    .dataframe thead th {\n",
       "        text-align: right;\n",
       "    }\n",
       "</style>\n",
       "<table border=\"1\" class=\"dataframe\">\n",
       "  <thead>\n",
       "    <tr style=\"text-align: right;\">\n",
       "      <th></th>\n",
       "      <th>Field 1</th>\n",
       "      <th>Value 1</th>\n",
       "      <th>Units 1</th>\n",
       "      <th>Field 2</th>\n",
       "      <th>Value 2</th>\n",
       "      <th>Units 2</th>\n",
       "      <th>Field 3</th>\n",
       "      <th>Value 3</th>\n",
       "      <th>Units 3</th>\n",
       "      <th>Field 4</th>\n",
       "      <th>...</th>\n",
       "      <th>Units 6</th>\n",
       "      <th>Field 7</th>\n",
       "      <th>Value 7</th>\n",
       "      <th>Units 7</th>\n",
       "      <th>Field 8</th>\n",
       "      <th>Value 8</th>\n",
       "      <th>Units 8</th>\n",
       "      <th>Field 9</th>\n",
       "      <th>Value 9</th>\n",
       "      <th>Units 9</th>\n",
       "    </tr>\n",
       "  </thead>\n",
       "  <tbody>\n",
       "    <tr>\n",
       "      <th>19</th>\n",
       "      <td>timestamp</td>\n",
       "      <td>2019-02-01 10:46:48</td>\n",
       "      <td>UTC</td>\n",
       "      <td>position_lat</td>\n",
       "      <td>3.564793e+09</td>\n",
       "      <td>degrees</td>\n",
       "      <td>position_long</td>\n",
       "      <td>8.581907e+08</td>\n",
       "      <td>degrees</td>\n",
       "      <td>distance</td>\n",
       "      <td>...</td>\n",
       "      <td>NaN</td>\n",
       "      <td>heart_rate</td>\n",
       "      <td>90.0</td>\n",
       "      <td>bpm</td>\n",
       "      <td>cadence</td>\n",
       "      <td>79.0</td>\n",
       "      <td>rpm</td>\n",
       "      <td>enhanced_speed</td>\n",
       "      <td>2.682</td>\n",
       "      <td>m/s</td>\n",
       "    </tr>\n",
       "    <tr>\n",
       "      <th>20</th>\n",
       "      <td>timestamp</td>\n",
       "      <td>2019-02-01 10:46:49</td>\n",
       "      <td>UTC</td>\n",
       "      <td>position_lat</td>\n",
       "      <td>3.564796e+09</td>\n",
       "      <td>degrees</td>\n",
       "      <td>position_long</td>\n",
       "      <td>8.581870e+08</td>\n",
       "      <td>degrees</td>\n",
       "      <td>distance</td>\n",
       "      <td>...</td>\n",
       "      <td>NaN</td>\n",
       "      <td>heart_rate</td>\n",
       "      <td>92.0</td>\n",
       "      <td>bpm</td>\n",
       "      <td>cadence</td>\n",
       "      <td>79.0</td>\n",
       "      <td>rpm</td>\n",
       "      <td>enhanced_speed</td>\n",
       "      <td>3.348</td>\n",
       "      <td>m/s</td>\n",
       "    </tr>\n",
       "    <tr>\n",
       "      <th>23</th>\n",
       "      <td>timestamp</td>\n",
       "      <td>2019-02-01 10:46:50</td>\n",
       "      <td>UTC</td>\n",
       "      <td>position_lat</td>\n",
       "      <td>3.564799e+09</td>\n",
       "      <td>degrees</td>\n",
       "      <td>position_long</td>\n",
       "      <td>8.581889e+08</td>\n",
       "      <td>degrees</td>\n",
       "      <td>distance</td>\n",
       "      <td>...</td>\n",
       "      <td>NaN</td>\n",
       "      <td>heart_rate</td>\n",
       "      <td>95.0</td>\n",
       "      <td>bpm</td>\n",
       "      <td>cadence</td>\n",
       "      <td>0.0</td>\n",
       "      <td>rpm</td>\n",
       "      <td>enhanced_speed</td>\n",
       "      <td>3.583</td>\n",
       "      <td>m/s</td>\n",
       "    </tr>\n",
       "    <tr>\n",
       "      <th>24</th>\n",
       "      <td>timestamp</td>\n",
       "      <td>2019-02-01 10:46:51</td>\n",
       "      <td>UTC</td>\n",
       "      <td>position_lat</td>\n",
       "      <td>3.564798e+09</td>\n",
       "      <td>degrees</td>\n",
       "      <td>position_long</td>\n",
       "      <td>8.581911e+08</td>\n",
       "      <td>degrees</td>\n",
       "      <td>distance</td>\n",
       "      <td>...</td>\n",
       "      <td>NaN</td>\n",
       "      <td>heart_rate</td>\n",
       "      <td>97.0</td>\n",
       "      <td>bpm</td>\n",
       "      <td>cadence</td>\n",
       "      <td>0.0</td>\n",
       "      <td>rpm</td>\n",
       "      <td>enhanced_speed</td>\n",
       "      <td>3.337</td>\n",
       "      <td>m/s</td>\n",
       "    </tr>\n",
       "    <tr>\n",
       "      <th>25</th>\n",
       "      <td>timestamp</td>\n",
       "      <td>2019-02-01 10:46:52</td>\n",
       "      <td>UTC</td>\n",
       "      <td>position_lat</td>\n",
       "      <td>3.564801e+09</td>\n",
       "      <td>degrees</td>\n",
       "      <td>position_long</td>\n",
       "      <td>8.581938e+08</td>\n",
       "      <td>degrees</td>\n",
       "      <td>distance</td>\n",
       "      <td>...</td>\n",
       "      <td>NaN</td>\n",
       "      <td>heart_rate</td>\n",
       "      <td>100.0</td>\n",
       "      <td>bpm</td>\n",
       "      <td>cadence</td>\n",
       "      <td>0.0</td>\n",
       "      <td>rpm</td>\n",
       "      <td>enhanced_speed</td>\n",
       "      <td>3.542</td>\n",
       "      <td>m/s</td>\n",
       "    </tr>\n",
       "  </tbody>\n",
       "</table>\n",
       "<p>5 rows × 27 columns</p>\n",
       "</div>"
      ],
      "text/plain": [
       "      Field 1              Value 1 Units 1       Field 2       Value 2  \\\n",
       "19  timestamp  2019-02-01 10:46:48     UTC  position_lat  3.564793e+09   \n",
       "20  timestamp  2019-02-01 10:46:49     UTC  position_lat  3.564796e+09   \n",
       "23  timestamp  2019-02-01 10:46:50     UTC  position_lat  3.564799e+09   \n",
       "24  timestamp  2019-02-01 10:46:51     UTC  position_lat  3.564798e+09   \n",
       "25  timestamp  2019-02-01 10:46:52     UTC  position_lat  3.564801e+09   \n",
       "\n",
       "    Units 2        Field 3       Value 3  Units 3   Field 4  ...  Units 6  \\\n",
       "19  degrees  position_long  8.581907e+08  degrees  distance  ...      NaN   \n",
       "20  degrees  position_long  8.581870e+08  degrees  distance  ...      NaN   \n",
       "23  degrees  position_long  8.581889e+08  degrees  distance  ...      NaN   \n",
       "24  degrees  position_long  8.581911e+08  degrees  distance  ...      NaN   \n",
       "25  degrees  position_long  8.581938e+08  degrees  distance  ...      NaN   \n",
       "\n",
       "       Field 7 Value 7  Units 7  Field 8 Value 8  Units 8         Field 9  \\\n",
       "19  heart_rate    90.0      bpm  cadence    79.0      rpm  enhanced_speed   \n",
       "20  heart_rate    92.0      bpm  cadence    79.0      rpm  enhanced_speed   \n",
       "23  heart_rate    95.0      bpm  cadence     0.0      rpm  enhanced_speed   \n",
       "24  heart_rate    97.0      bpm  cadence     0.0      rpm  enhanced_speed   \n",
       "25  heart_rate   100.0      bpm  cadence     0.0      rpm  enhanced_speed   \n",
       "\n",
       "   Value 9  Units 9  \n",
       "19   2.682      m/s  \n",
       "20   3.348      m/s  \n",
       "23   3.583      m/s  \n",
       "24   3.337      m/s  \n",
       "25   3.542      m/s  \n",
       "\n",
       "[5 rows x 27 columns]"
      ]
     },
     "execution_count": 34,
     "metadata": {},
     "output_type": "execute_result"
    }
   ],
   "source": [
    "df_filtered = df_filtered.drop(columns=toBeDropped)\n",
    "df_filtered.head()"
   ]
  },
  {
   "cell_type": "code",
   "execution_count": null,
   "metadata": {},
   "outputs": [],
   "source": []
  },
  {
   "cell_type": "code",
   "execution_count": null,
   "metadata": {},
   "outputs": [],
   "source": [
    "\n"
   ]
  },
  {
   "cell_type": "code",
   "execution_count": null,
   "metadata": {},
   "outputs": [],
   "source": []
  },
  {
   "cell_type": "code",
   "execution_count": null,
   "metadata": {},
   "outputs": [],
   "source": []
  },
  {
   "cell_type": "code",
   "execution_count": null,
   "metadata": {},
   "outputs": [],
   "source": []
  }
 ],
 "metadata": {
  "kernelspec": {
   "display_name": "Python 3",
   "language": "python",
   "name": "python3"
  },
  "language_info": {
   "codemirror_mode": {
    "name": "ipython",
    "version": 3
   },
   "file_extension": ".py",
   "mimetype": "text/x-python",
   "name": "python",
   "nbconvert_exporter": "python",
   "pygments_lexer": "ipython3",
   "version": "3.5.2"
  }
 },
 "nbformat": 4,
 "nbformat_minor": 2
}

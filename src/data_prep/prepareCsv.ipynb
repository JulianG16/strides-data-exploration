{
 "cells": [
  {
   "cell_type": "markdown",
   "metadata": {},
   "source": [
    "Imports"
   ]
  },
  {
   "cell_type": "code",
   "execution_count": 78,
   "metadata": {},
   "outputs": [],
   "source": [
    "import csv\n",
    "import pandas as pd\n",
    "from datetime import datetime\n",
    "from datetime import timedelta\n",
    "import os"
   ]
  },
  {
   "cell_type": "code",
   "execution_count": 79,
   "metadata": {},
   "outputs": [],
   "source": [
    "def secondsToUTC (dataset):\n",
    "    #1989-12-31 00:00:00\n",
    "    zero = datetime(1989,12,31,0,0,0)\n",
    "    #print (datetime.strftime(zero,\"%b %d %Y %H:%M:%S\"))\n",
    "    new_dataset = []\n",
    "    for d in dataset:\n",
    "        n = str(zero + timedelta(seconds=d))\n",
    "        new_dataset.append(n)\n",
    "    return new_dataset"
   ]
  },
  {
   "cell_type": "code",
   "execution_count": 80,
   "metadata": {},
   "outputs": [],
   "source": [
    "def prepareCSV (filepath, file, filetype):\n",
    "    #Read csv\n",
    "    df = pd.read_csv(filepath+file+filetype)\n",
    "    \n",
    "    #filter for local number == 7 and type == Date\n",
    "    df_filtered = df.loc[df['Local Number'] == 7]\n",
    "    df_filtered = df_filtered.loc[df_filtered['Type'] == 'Data']\n",
    "    \n",
    "    #convert position and time\n",
    "    df_filtered['Value 2'] = df_filtered['Value 2']* 180/(2**31)\n",
    "    df_filtered['Units 2'] = \"degrees\"\n",
    "\n",
    "    df_filtered['Value 3'] = df_filtered['Value 3']* 180/(2**31)\n",
    "    df_filtered['Units 3'] = \"degrees\"\n",
    "\n",
    "    df_filtered['Value 1'] = secondsToUTC(df_filtered['Value 1'])\n",
    "    df_filtered['Units 1'] = \"UTC\"\n",
    "    \n",
    "    # drop unnecessary data\n",
    "    toBeDropped = []\n",
    "    counter = 10\n",
    "    field_str = 'Field '\n",
    "    value_str = 'Value '\n",
    "    units_str = 'Units '\n",
    "\n",
    "    while counter < 24:\n",
    "        toBeDropped.append(field_str+str(counter))\n",
    "        toBeDropped.append(value_str+str(counter))\n",
    "        toBeDropped.append(units_str+str(counter))\n",
    "        counter = counter + 1\n",
    "\n",
    "    toBeDropped.append(\"Type\")\n",
    "    toBeDropped.append(\"Local Number\")\n",
    "    toBeDropped.append(\"Message\")\n",
    "    toBeDropped.append(\"Unnamed: 72\")\n",
    "    \n",
    "    df_filtered = df_filtered.drop(columns=toBeDropped)\n",
    "    \n",
    "    # write csv\n",
    "    df_filtered.to_csv(filepath+file+'_prepared'+filetype)"
   ]
  },
  {
   "cell_type": "code",
   "execution_count": 81,
   "metadata": {},
   "outputs": [],
   "source": [
    "file = '921B4648'\n",
    "filepath = '/home/julio/strides/data/fit2csv/'\n",
    "filetype = '.csv'"
   ]
  },
  {
   "cell_type": "markdown",
   "metadata": {},
   "source": [
    "Get file names in directory\n"
   ]
  },
  {
   "cell_type": "code",
   "execution_count": 84,
   "metadata": {},
   "outputs": [
    {
     "name": "stdout",
     "output_type": "stream",
     "text": [
      "['913F2746.csv', '91SI5602.csv', '916A2805.csv', '911E0950.csv', '911D3633.csv', '91VI5920.csv', '914H2817.csv', '921B4648.csv', '91U70725.csv', '91VI2925.csv', '915F0120.csv', '911B3000.csv', '919H2158.csv', '911C4903.csv']\n"
     ]
    }
   ],
   "source": [
    "files = []\n",
    "for file in os.listdir(filepath):\n",
    "    if file.endswith(\".csv\") and not file.endswith(\"prepared.csv\"):\n",
    "        files.append(file)\n",
    "print(files)"
   ]
  },
  {
   "cell_type": "markdown",
   "metadata": {},
   "source": [
    "prepare files"
   ]
  },
  {
   "cell_type": "code",
   "execution_count": 83,
   "metadata": {},
   "outputs": [
    {
     "ename": "FileNotFoundError",
     "evalue": "[Errno 2] File b'/home/julio/strides/data/fit2csv/913F2746.csv.csv' does not exist: b'/home/julio/strides/data/fit2csv/913F2746.csv.csv'",
     "output_type": "error",
     "traceback": [
      "\u001b[0;31m---------------------------------------------------------------------------\u001b[0m",
      "\u001b[0;31mFileNotFoundError\u001b[0m                         Traceback (most recent call last)",
      "\u001b[0;32m<ipython-input-83-6c588f556709>\u001b[0m in \u001b[0;36m<module>\u001b[0;34m\u001b[0m\n\u001b[1;32m      1\u001b[0m \u001b[0;32mfor\u001b[0m \u001b[0mfile\u001b[0m \u001b[0;32min\u001b[0m \u001b[0mfiles\u001b[0m\u001b[0;34m:\u001b[0m\u001b[0;34m\u001b[0m\u001b[0m\n\u001b[0;32m----> 2\u001b[0;31m     \u001b[0mprepareCSV\u001b[0m \u001b[0;34m(\u001b[0m\u001b[0mfilepath\u001b[0m\u001b[0;34m,\u001b[0m \u001b[0mfile\u001b[0m\u001b[0;34m,\u001b[0m \u001b[0mfiletype\u001b[0m\u001b[0;34m)\u001b[0m\u001b[0;34m\u001b[0m\u001b[0m\n\u001b[0m",
      "\u001b[0;32m<ipython-input-80-4739e9c5d8eb>\u001b[0m in \u001b[0;36mprepareCSV\u001b[0;34m(filepath, file, filetype)\u001b[0m\n\u001b[1;32m      1\u001b[0m \u001b[0;32mdef\u001b[0m \u001b[0mprepareCSV\u001b[0m \u001b[0;34m(\u001b[0m\u001b[0mfilepath\u001b[0m\u001b[0;34m,\u001b[0m \u001b[0mfile\u001b[0m\u001b[0;34m,\u001b[0m \u001b[0mfiletype\u001b[0m\u001b[0;34m)\u001b[0m\u001b[0;34m:\u001b[0m\u001b[0;34m\u001b[0m\u001b[0m\n\u001b[1;32m      2\u001b[0m     \u001b[0;31m#Read csv\u001b[0m\u001b[0;34m\u001b[0m\u001b[0;34m\u001b[0m\u001b[0m\n\u001b[0;32m----> 3\u001b[0;31m     \u001b[0mdf\u001b[0m \u001b[0;34m=\u001b[0m \u001b[0mpd\u001b[0m\u001b[0;34m.\u001b[0m\u001b[0mread_csv\u001b[0m\u001b[0;34m(\u001b[0m\u001b[0mfilepath\u001b[0m\u001b[0;34m+\u001b[0m\u001b[0mfile\u001b[0m\u001b[0;34m+\u001b[0m\u001b[0mfiletype\u001b[0m\u001b[0;34m)\u001b[0m\u001b[0;34m\u001b[0m\u001b[0m\n\u001b[0m\u001b[1;32m      4\u001b[0m \u001b[0;34m\u001b[0m\u001b[0m\n\u001b[1;32m      5\u001b[0m     \u001b[0;31m#filter for local number == 7 and type == Date\u001b[0m\u001b[0;34m\u001b[0m\u001b[0;34m\u001b[0m\u001b[0m\n",
      "\u001b[0;32m~/.local/lib/python3.5/site-packages/pandas/io/parsers.py\u001b[0m in \u001b[0;36mparser_f\u001b[0;34m(filepath_or_buffer, sep, delimiter, header, names, index_col, usecols, squeeze, prefix, mangle_dupe_cols, dtype, engine, converters, true_values, false_values, skipinitialspace, skiprows, skipfooter, nrows, na_values, keep_default_na, na_filter, verbose, skip_blank_lines, parse_dates, infer_datetime_format, keep_date_col, date_parser, dayfirst, iterator, chunksize, compression, thousands, decimal, lineterminator, quotechar, quoting, doublequote, escapechar, comment, encoding, dialect, tupleize_cols, error_bad_lines, warn_bad_lines, delim_whitespace, low_memory, memory_map, float_precision)\u001b[0m\n\u001b[1;32m    695\u001b[0m                     skip_blank_lines=skip_blank_lines)\n\u001b[1;32m    696\u001b[0m \u001b[0;34m\u001b[0m\u001b[0m\n\u001b[0;32m--> 697\u001b[0;31m         \u001b[0;32mreturn\u001b[0m \u001b[0m_read\u001b[0m\u001b[0;34m(\u001b[0m\u001b[0mfilepath_or_buffer\u001b[0m\u001b[0;34m,\u001b[0m \u001b[0mkwds\u001b[0m\u001b[0;34m)\u001b[0m\u001b[0;34m\u001b[0m\u001b[0m\n\u001b[0m\u001b[1;32m    698\u001b[0m \u001b[0;34m\u001b[0m\u001b[0m\n\u001b[1;32m    699\u001b[0m     \u001b[0mparser_f\u001b[0m\u001b[0;34m.\u001b[0m\u001b[0m__name__\u001b[0m \u001b[0;34m=\u001b[0m \u001b[0mname\u001b[0m\u001b[0;34m\u001b[0m\u001b[0m\n",
      "\u001b[0;32m~/.local/lib/python3.5/site-packages/pandas/io/parsers.py\u001b[0m in \u001b[0;36m_read\u001b[0;34m(filepath_or_buffer, kwds)\u001b[0m\n\u001b[1;32m    422\u001b[0m \u001b[0;34m\u001b[0m\u001b[0m\n\u001b[1;32m    423\u001b[0m     \u001b[0;31m# Create the parser.\u001b[0m\u001b[0;34m\u001b[0m\u001b[0;34m\u001b[0m\u001b[0m\n\u001b[0;32m--> 424\u001b[0;31m     \u001b[0mparser\u001b[0m \u001b[0;34m=\u001b[0m \u001b[0mTextFileReader\u001b[0m\u001b[0;34m(\u001b[0m\u001b[0mfilepath_or_buffer\u001b[0m\u001b[0;34m,\u001b[0m \u001b[0;34m**\u001b[0m\u001b[0mkwds\u001b[0m\u001b[0;34m)\u001b[0m\u001b[0;34m\u001b[0m\u001b[0m\n\u001b[0m\u001b[1;32m    425\u001b[0m \u001b[0;34m\u001b[0m\u001b[0m\n\u001b[1;32m    426\u001b[0m     \u001b[0;32mif\u001b[0m \u001b[0mchunksize\u001b[0m \u001b[0;32mor\u001b[0m \u001b[0miterator\u001b[0m\u001b[0;34m:\u001b[0m\u001b[0;34m\u001b[0m\u001b[0m\n",
      "\u001b[0;32m~/.local/lib/python3.5/site-packages/pandas/io/parsers.py\u001b[0m in \u001b[0;36m__init__\u001b[0;34m(self, f, engine, **kwds)\u001b[0m\n\u001b[1;32m    888\u001b[0m             \u001b[0mself\u001b[0m\u001b[0;34m.\u001b[0m\u001b[0moptions\u001b[0m\u001b[0;34m[\u001b[0m\u001b[0;34m'has_index_names'\u001b[0m\u001b[0;34m]\u001b[0m \u001b[0;34m=\u001b[0m \u001b[0mkwds\u001b[0m\u001b[0;34m[\u001b[0m\u001b[0;34m'has_index_names'\u001b[0m\u001b[0;34m]\u001b[0m\u001b[0;34m\u001b[0m\u001b[0m\n\u001b[1;32m    889\u001b[0m \u001b[0;34m\u001b[0m\u001b[0m\n\u001b[0;32m--> 890\u001b[0;31m         \u001b[0mself\u001b[0m\u001b[0;34m.\u001b[0m\u001b[0m_make_engine\u001b[0m\u001b[0;34m(\u001b[0m\u001b[0mself\u001b[0m\u001b[0;34m.\u001b[0m\u001b[0mengine\u001b[0m\u001b[0;34m)\u001b[0m\u001b[0;34m\u001b[0m\u001b[0m\n\u001b[0m\u001b[1;32m    891\u001b[0m \u001b[0;34m\u001b[0m\u001b[0m\n\u001b[1;32m    892\u001b[0m     \u001b[0;32mdef\u001b[0m \u001b[0mclose\u001b[0m\u001b[0;34m(\u001b[0m\u001b[0mself\u001b[0m\u001b[0;34m)\u001b[0m\u001b[0;34m:\u001b[0m\u001b[0;34m\u001b[0m\u001b[0m\n",
      "\u001b[0;32m~/.local/lib/python3.5/site-packages/pandas/io/parsers.py\u001b[0m in \u001b[0;36m_make_engine\u001b[0;34m(self, engine)\u001b[0m\n\u001b[1;32m   1115\u001b[0m     \u001b[0;32mdef\u001b[0m \u001b[0m_make_engine\u001b[0m\u001b[0;34m(\u001b[0m\u001b[0mself\u001b[0m\u001b[0;34m,\u001b[0m \u001b[0mengine\u001b[0m\u001b[0;34m=\u001b[0m\u001b[0;34m'c'\u001b[0m\u001b[0;34m)\u001b[0m\u001b[0;34m:\u001b[0m\u001b[0;34m\u001b[0m\u001b[0m\n\u001b[1;32m   1116\u001b[0m         \u001b[0;32mif\u001b[0m \u001b[0mengine\u001b[0m \u001b[0;34m==\u001b[0m \u001b[0;34m'c'\u001b[0m\u001b[0;34m:\u001b[0m\u001b[0;34m\u001b[0m\u001b[0m\n\u001b[0;32m-> 1117\u001b[0;31m             \u001b[0mself\u001b[0m\u001b[0;34m.\u001b[0m\u001b[0m_engine\u001b[0m \u001b[0;34m=\u001b[0m \u001b[0mCParserWrapper\u001b[0m\u001b[0;34m(\u001b[0m\u001b[0mself\u001b[0m\u001b[0;34m.\u001b[0m\u001b[0mf\u001b[0m\u001b[0;34m,\u001b[0m \u001b[0;34m**\u001b[0m\u001b[0mself\u001b[0m\u001b[0;34m.\u001b[0m\u001b[0moptions\u001b[0m\u001b[0;34m)\u001b[0m\u001b[0;34m\u001b[0m\u001b[0m\n\u001b[0m\u001b[1;32m   1118\u001b[0m         \u001b[0;32melse\u001b[0m\u001b[0;34m:\u001b[0m\u001b[0;34m\u001b[0m\u001b[0m\n\u001b[1;32m   1119\u001b[0m             \u001b[0;32mif\u001b[0m \u001b[0mengine\u001b[0m \u001b[0;34m==\u001b[0m \u001b[0;34m'python'\u001b[0m\u001b[0;34m:\u001b[0m\u001b[0;34m\u001b[0m\u001b[0m\n",
      "\u001b[0;32m~/.local/lib/python3.5/site-packages/pandas/io/parsers.py\u001b[0m in \u001b[0;36m__init__\u001b[0;34m(self, src, **kwds)\u001b[0m\n\u001b[1;32m   1846\u001b[0m         \u001b[0mkwds\u001b[0m\u001b[0;34m[\u001b[0m\u001b[0;34m'usecols'\u001b[0m\u001b[0;34m]\u001b[0m \u001b[0;34m=\u001b[0m \u001b[0mself\u001b[0m\u001b[0;34m.\u001b[0m\u001b[0musecols\u001b[0m\u001b[0;34m\u001b[0m\u001b[0m\n\u001b[1;32m   1847\u001b[0m \u001b[0;34m\u001b[0m\u001b[0m\n\u001b[0;32m-> 1848\u001b[0;31m         \u001b[0mself\u001b[0m\u001b[0;34m.\u001b[0m\u001b[0m_reader\u001b[0m \u001b[0;34m=\u001b[0m \u001b[0mparsers\u001b[0m\u001b[0;34m.\u001b[0m\u001b[0mTextReader\u001b[0m\u001b[0;34m(\u001b[0m\u001b[0msrc\u001b[0m\u001b[0;34m,\u001b[0m \u001b[0;34m**\u001b[0m\u001b[0mkwds\u001b[0m\u001b[0;34m)\u001b[0m\u001b[0;34m\u001b[0m\u001b[0m\n\u001b[0m\u001b[1;32m   1849\u001b[0m         \u001b[0mself\u001b[0m\u001b[0;34m.\u001b[0m\u001b[0munnamed_cols\u001b[0m \u001b[0;34m=\u001b[0m \u001b[0mself\u001b[0m\u001b[0;34m.\u001b[0m\u001b[0m_reader\u001b[0m\u001b[0;34m.\u001b[0m\u001b[0munnamed_cols\u001b[0m\u001b[0;34m\u001b[0m\u001b[0m\n\u001b[1;32m   1850\u001b[0m \u001b[0;34m\u001b[0m\u001b[0m\n",
      "\u001b[0;32mpandas/_libs/parsers.pyx\u001b[0m in \u001b[0;36mpandas._libs.parsers.TextReader.__cinit__\u001b[0;34m()\u001b[0m\n",
      "\u001b[0;32mpandas/_libs/parsers.pyx\u001b[0m in \u001b[0;36mpandas._libs.parsers.TextReader._setup_parser_source\u001b[0;34m()\u001b[0m\n",
      "\u001b[0;31mFileNotFoundError\u001b[0m: [Errno 2] File b'/home/julio/strides/data/fit2csv/913F2746.csv.csv' does not exist: b'/home/julio/strides/data/fit2csv/913F2746.csv.csv'"
     ]
    }
   ],
   "source": [
    "for file in files:\n",
    "    prepareCSV (filepath, file, filetype)"
   ]
  },
  {
   "cell_type": "code",
   "execution_count": 58,
   "metadata": {},
   "outputs": [],
   "source": []
  },
  {
   "cell_type": "code",
   "execution_count": 59,
   "metadata": {},
   "outputs": [],
   "source": []
  },
  {
   "cell_type": "code",
   "execution_count": 60,
   "metadata": {},
   "outputs": [],
   "source": []
  },
  {
   "cell_type": "code",
   "execution_count": 61,
   "metadata": {},
   "outputs": [
    {
     "data": {
      "text/html": [
       "<div>\n",
       "<style scoped>\n",
       "    .dataframe tbody tr th:only-of-type {\n",
       "        vertical-align: middle;\n",
       "    }\n",
       "\n",
       "    .dataframe tbody tr th {\n",
       "        vertical-align: top;\n",
       "    }\n",
       "\n",
       "    .dataframe thead th {\n",
       "        text-align: right;\n",
       "    }\n",
       "</style>\n",
       "<table border=\"1\" class=\"dataframe\">\n",
       "  <thead>\n",
       "    <tr style=\"text-align: right;\">\n",
       "      <th></th>\n",
       "      <th>Field 1</th>\n",
       "      <th>Value 1</th>\n",
       "      <th>Units 1</th>\n",
       "      <th>Field 2</th>\n",
       "      <th>Value 2</th>\n",
       "      <th>Units 2</th>\n",
       "      <th>Field 3</th>\n",
       "      <th>Value 3</th>\n",
       "      <th>Units 3</th>\n",
       "      <th>Field 4</th>\n",
       "      <th>...</th>\n",
       "      <th>Units 6</th>\n",
       "      <th>Field 7</th>\n",
       "      <th>Value 7</th>\n",
       "      <th>Units 7</th>\n",
       "      <th>Field 8</th>\n",
       "      <th>Value 8</th>\n",
       "      <th>Units 8</th>\n",
       "      <th>Field 9</th>\n",
       "      <th>Value 9</th>\n",
       "      <th>Units 9</th>\n",
       "    </tr>\n",
       "  </thead>\n",
       "  <tbody>\n",
       "    <tr>\n",
       "      <th>19</th>\n",
       "      <td>timestamp</td>\n",
       "      <td>2019-02-01 10:46:48</td>\n",
       "      <td>UTC</td>\n",
       "      <td>position_lat</td>\n",
       "      <td>48.139598</td>\n",
       "      <td>degrees</td>\n",
       "      <td>position_long</td>\n",
       "      <td>11.589160</td>\n",
       "      <td>degrees</td>\n",
       "      <td>distance</td>\n",
       "      <td>...</td>\n",
       "      <td>NaN</td>\n",
       "      <td>heart_rate</td>\n",
       "      <td>90.0</td>\n",
       "      <td>bpm</td>\n",
       "      <td>cadence</td>\n",
       "      <td>79.0</td>\n",
       "      <td>rpm</td>\n",
       "      <td>enhanced_speed</td>\n",
       "      <td>2.682</td>\n",
       "      <td>m/s</td>\n",
       "    </tr>\n",
       "    <tr>\n",
       "      <th>20</th>\n",
       "      <td>timestamp</td>\n",
       "      <td>2019-02-01 10:46:49</td>\n",
       "      <td>UTC</td>\n",
       "      <td>position_lat</td>\n",
       "      <td>48.139640</td>\n",
       "      <td>degrees</td>\n",
       "      <td>position_long</td>\n",
       "      <td>11.589109</td>\n",
       "      <td>degrees</td>\n",
       "      <td>distance</td>\n",
       "      <td>...</td>\n",
       "      <td>NaN</td>\n",
       "      <td>heart_rate</td>\n",
       "      <td>92.0</td>\n",
       "      <td>bpm</td>\n",
       "      <td>cadence</td>\n",
       "      <td>79.0</td>\n",
       "      <td>rpm</td>\n",
       "      <td>enhanced_speed</td>\n",
       "      <td>3.348</td>\n",
       "      <td>m/s</td>\n",
       "    </tr>\n",
       "    <tr>\n",
       "      <th>23</th>\n",
       "      <td>timestamp</td>\n",
       "      <td>2019-02-01 10:46:50</td>\n",
       "      <td>UTC</td>\n",
       "      <td>position_lat</td>\n",
       "      <td>48.139677</td>\n",
       "      <td>degrees</td>\n",
       "      <td>position_long</td>\n",
       "      <td>11.589135</td>\n",
       "      <td>degrees</td>\n",
       "      <td>distance</td>\n",
       "      <td>...</td>\n",
       "      <td>NaN</td>\n",
       "      <td>heart_rate</td>\n",
       "      <td>95.0</td>\n",
       "      <td>bpm</td>\n",
       "      <td>cadence</td>\n",
       "      <td>0.0</td>\n",
       "      <td>rpm</td>\n",
       "      <td>enhanced_speed</td>\n",
       "      <td>3.583</td>\n",
       "      <td>m/s</td>\n",
       "    </tr>\n",
       "    <tr>\n",
       "      <th>24</th>\n",
       "      <td>timestamp</td>\n",
       "      <td>2019-02-01 10:46:51</td>\n",
       "      <td>UTC</td>\n",
       "      <td>position_lat</td>\n",
       "      <td>48.139669</td>\n",
       "      <td>degrees</td>\n",
       "      <td>position_long</td>\n",
       "      <td>11.589165</td>\n",
       "      <td>degrees</td>\n",
       "      <td>distance</td>\n",
       "      <td>...</td>\n",
       "      <td>NaN</td>\n",
       "      <td>heart_rate</td>\n",
       "      <td>97.0</td>\n",
       "      <td>bpm</td>\n",
       "      <td>cadence</td>\n",
       "      <td>0.0</td>\n",
       "      <td>rpm</td>\n",
       "      <td>enhanced_speed</td>\n",
       "      <td>3.337</td>\n",
       "      <td>m/s</td>\n",
       "    </tr>\n",
       "    <tr>\n",
       "      <th>25</th>\n",
       "      <td>timestamp</td>\n",
       "      <td>2019-02-01 10:46:52</td>\n",
       "      <td>UTC</td>\n",
       "      <td>position_lat</td>\n",
       "      <td>48.139700</td>\n",
       "      <td>degrees</td>\n",
       "      <td>position_long</td>\n",
       "      <td>11.589201</td>\n",
       "      <td>degrees</td>\n",
       "      <td>distance</td>\n",
       "      <td>...</td>\n",
       "      <td>NaN</td>\n",
       "      <td>heart_rate</td>\n",
       "      <td>100.0</td>\n",
       "      <td>bpm</td>\n",
       "      <td>cadence</td>\n",
       "      <td>0.0</td>\n",
       "      <td>rpm</td>\n",
       "      <td>enhanced_speed</td>\n",
       "      <td>3.542</td>\n",
       "      <td>m/s</td>\n",
       "    </tr>\n",
       "  </tbody>\n",
       "</table>\n",
       "<p>5 rows × 27 columns</p>\n",
       "</div>"
      ],
      "text/plain": [
       "      Field 1              Value 1 Units 1       Field 2    Value 2  Units 2  \\\n",
       "19  timestamp  2019-02-01 10:46:48     UTC  position_lat  48.139598  degrees   \n",
       "20  timestamp  2019-02-01 10:46:49     UTC  position_lat  48.139640  degrees   \n",
       "23  timestamp  2019-02-01 10:46:50     UTC  position_lat  48.139677  degrees   \n",
       "24  timestamp  2019-02-01 10:46:51     UTC  position_lat  48.139669  degrees   \n",
       "25  timestamp  2019-02-01 10:46:52     UTC  position_lat  48.139700  degrees   \n",
       "\n",
       "          Field 3    Value 3  Units 3   Field 4  ...  Units 6     Field 7  \\\n",
       "19  position_long  11.589160  degrees  distance  ...      NaN  heart_rate   \n",
       "20  position_long  11.589109  degrees  distance  ...      NaN  heart_rate   \n",
       "23  position_long  11.589135  degrees  distance  ...      NaN  heart_rate   \n",
       "24  position_long  11.589165  degrees  distance  ...      NaN  heart_rate   \n",
       "25  position_long  11.589201  degrees  distance  ...      NaN  heart_rate   \n",
       "\n",
       "   Value 7  Units 7  Field 8 Value 8  Units 8         Field 9 Value 9  Units 9  \n",
       "19    90.0      bpm  cadence    79.0      rpm  enhanced_speed   2.682      m/s  \n",
       "20    92.0      bpm  cadence    79.0      rpm  enhanced_speed   3.348      m/s  \n",
       "23    95.0      bpm  cadence     0.0      rpm  enhanced_speed   3.583      m/s  \n",
       "24    97.0      bpm  cadence     0.0      rpm  enhanced_speed   3.337      m/s  \n",
       "25   100.0      bpm  cadence     0.0      rpm  enhanced_speed   3.542      m/s  \n",
       "\n",
       "[5 rows x 27 columns]"
      ]
     },
     "execution_count": 61,
     "metadata": {},
     "output_type": "execute_result"
    }
   ],
   "source": [
    "\n"
   ]
  },
  {
   "cell_type": "markdown",
   "metadata": {},
   "source": [
    "save"
   ]
  },
  {
   "cell_type": "code",
   "execution_count": 62,
   "metadata": {},
   "outputs": [],
   "source": []
  },
  {
   "cell_type": "code",
   "execution_count": null,
   "metadata": {},
   "outputs": [],
   "source": []
  },
  {
   "cell_type": "code",
   "execution_count": null,
   "metadata": {},
   "outputs": [],
   "source": []
  },
  {
   "cell_type": "code",
   "execution_count": null,
   "metadata": {},
   "outputs": [],
   "source": []
  }
 ],
 "metadata": {
  "kernelspec": {
   "display_name": "Python 3",
   "language": "python",
   "name": "python3"
  },
  "language_info": {
   "codemirror_mode": {
    "name": "ipython",
    "version": 3
   },
   "file_extension": ".py",
   "mimetype": "text/x-python",
   "name": "python",
   "nbconvert_exporter": "python",
   "pygments_lexer": "ipython3",
   "version": "3.5.2"
  }
 },
 "nbformat": 4,
 "nbformat_minor": 2
}

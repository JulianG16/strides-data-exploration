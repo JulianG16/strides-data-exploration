{
 "cells": [
  {
   "cell_type": "markdown",
   "metadata": {},
   "source": [
    "Imports"
   ]
  },
  {
   "cell_type": "code",
   "execution_count": 78,
   "metadata": {},
   "outputs": [],
   "source": [
    "import csv\n",
    "import pandas as pd\n",
    "from datetime import datetime\n",
    "from datetime import timedelta\n",
    "import os"
   ]
  },
  {
   "cell_type": "code",
   "execution_count": 79,
   "metadata": {},
   "outputs": [],
   "source": [
    "def secondsToUTC (dataset):\n",
    "    #1989-12-31 00:00:00\n",
    "    zero = datetime(1989,12,31,0,0,0)\n",
    "    #print (datetime.strftime(zero,\"%b %d %Y %H:%M:%S\"))\n",
    "    new_dataset = []\n",
    "    for d in dataset:\n",
    "        n = str(zero + timedelta(seconds=d))\n",
    "        new_dataset.append(n)\n",
    "    return new_dataset"
   ]
  },
  {
   "cell_type": "code",
   "execution_count": 80,
   "metadata": {},
   "outputs": [],
   "source": [
    "def prepareCSV (filepath, file, filetype):\n",
    "    #Read csv\n",
    "    df = pd.read_csv(filepath+file+filetype)\n",
    "    \n",
    "    #filter for local number == 7 and type == Date\n",
    "    df_filtered = df.loc[df['Local Number'] == 7]\n",
    "    df_filtered = df_filtered.loc[df_filtered['Type'] == 'Data']\n",
    "    \n",
    "    #convert position and time\n",
    "    df_filtered['Value 2'] = df_filtered['Value 2']* 180/(2**31)\n",
    "    df_filtered['Units 2'] = \"degrees\"\n",
    "\n",
    "    df_filtered['Value 3'] = df_filtered['Value 3']* 180/(2**31)\n",
    "    df_filtered['Units 3'] = \"degrees\"\n",
    "\n",
    "    df_filtered['Value 1'] = secondsToUTC(df_filtered['Value 1'])\n",
    "    df_filtered['Units 1'] = \"UTC\"\n",
    "    \n",
    "    # drop unnecessary data\n",
    "    toBeDropped = []\n",
    "    counter = 10\n",
    "    field_str = 'Field '\n",
    "    value_str = 'Value '\n",
    "    units_str = 'Units '\n",
    "\n",
    "    while counter < 24:\n",
    "        toBeDropped.append(field_str+str(counter))\n",
    "        toBeDropped.append(value_str+str(counter))\n",
    "        toBeDropped.append(units_str+str(counter))\n",
    "        counter = counter + 1\n",
    "\n",
    "    toBeDropped.append(\"Type\")\n",
    "    toBeDropped.append(\"Local Number\")\n",
    "    toBeDropped.append(\"Message\")\n",
    "    toBeDropped.append(\"Unnamed: 72\")\n",
    "    \n",
    "    df_filtered = df_filtered.drop(columns=toBeDropped)\n",
    "    \n",
    "    # write csv\n",
    "    df_filtered.to_csv(filepath+file+'_prepared'+filetype)"
   ]
  },
  {
   "cell_type": "markdown",
   "metadata": {},
   "source": [
    "Get file names in directory\n"
   ]
  },
  {
   "cell_type": "code",
   "execution_count": 87,
   "metadata": {},
   "outputs": [
    {
     "name": "stdout",
     "output_type": "stream",
     "text": [
      "['913F2746', '91SI5602', '916A2805', '911E0950', '911D3633', '91VI5920', '914H2817', '921B4648', '91U70725', '91VI2925', '915F0120', '911B3000', '919H2158', '911C4903']\n"
     ]
    }
   ],
   "source": [
    "filepath = '/home/julio/strides/data/fit2csv/'\n",
    "filetype = '.csv'\n",
    "files = []\n",
    "for file in os.listdir(filepath):\n",
    "    if file.endswith(\".csv\") and not file.endswith(\"prepared.csv\"):\n",
    "        files.append(file.split('.')[0])"
   ]
  },
  {
   "cell_type": "markdown",
   "metadata": {},
   "source": [
    "Prepare files"
   ]
  },
  {
   "cell_type": "code",
   "execution_count": 88,
   "metadata": {},
   "outputs": [],
   "source": [
    "for file in files:\n",
    "    prepareCSV (filepath, file, filetype)"
   ]
  },
  {
   "cell_type": "markdown",
   "metadata": {},
   "source": [
    "save"
   ]
  },
  {
   "cell_type": "code",
   "execution_count": 62,
   "metadata": {},
   "outputs": [],
   "source": []
  },
  {
   "cell_type": "code",
   "execution_count": null,
   "metadata": {},
   "outputs": [],
   "source": []
  },
  {
   "cell_type": "code",
   "execution_count": null,
   "metadata": {},
   "outputs": [],
   "source": []
  },
  {
   "cell_type": "code",
   "execution_count": null,
   "metadata": {},
   "outputs": [],
   "source": []
  }
 ],
 "metadata": {
  "kernelspec": {
   "display_name": "Python 3",
   "language": "python",
   "name": "python3"
  },
  "language_info": {
   "codemirror_mode": {
    "name": "ipython",
    "version": 3
   },
   "file_extension": ".py",
   "mimetype": "text/x-python",
   "name": "python",
   "nbconvert_exporter": "python",
   "pygments_lexer": "ipython3",
   "version": "3.5.2"
  }
 },
 "nbformat": 4,
 "nbformat_minor": 2
}
